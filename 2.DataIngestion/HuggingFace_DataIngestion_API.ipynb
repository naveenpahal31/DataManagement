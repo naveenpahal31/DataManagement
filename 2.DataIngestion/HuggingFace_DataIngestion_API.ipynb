{
 "cells": [
  {
   "cell_type": "code",
   "execution_count": 9,
   "id": "4de33515-17f7-415c-971c-c2efe218d06b",
   "metadata": {},
   "outputs": [
    {
     "name": "stdout",
     "output_type": "stream",
     "text": [
      "Starting Hugging face data ingestion with time: 2025-08-23 16:56:18\n"
     ]
    },
    {
     "data": {
      "application/vnd.jupyter.widget-view+json": {
       "model_id": "63385906157247c2b77cafe7bc7f09ea",
       "version_major": 2,
       "version_minor": 0
      },
      "text/plain": [
       "Creating CSV from Arrow format:   0%|          | 0/10 [00:00<?, ?ba/s]"
      ]
     },
     "metadata": {},
     "output_type": "display_data"
    },
    {
     "name": "stdout",
     "output_type": "stream",
     "text": [
      "dataset saved to Data/3.Raw Data Storage with time: 2025-08-23 16:56:22\n"
     ]
    }
   ],
   "source": [
    "#%pip install datasets\n",
    "\n",
    "import os\n",
    "from datasets import load_dataset\n",
    "from datetime import datetime\n",
    "\n",
    "# Print a message to inform the user that the process is starting.\n",
    "print(f\"Starting Hugging face data ingestion with time: {datetime.now().strftime('%Y-%m-%d %H:%M:%S')}\")\n",
    "\n",
    "# This line defines the folder where the data will be stored,\n",
    "# located inside the parent directory.\n",
    "output_dir = \"../3.RawDataStorage/hagging\"\n",
    "\n",
    "# Create the directory if it doesn't exist\n",
    "os.makedirs(output_dir, exist_ok=True)\n",
    "\n",
    "# Load the dataset from the Hugging Face Hub\n",
    "dataset = load_dataset(\"kusha7/bank-churn\")\n",
    "\n",
    "# Save the 'train' split of the dataset to a CSV file.\n",
    "# os.path.join correctly combines the output directory with the filename.\n",
    "dataset[\"train\"].to_csv(os.path.join(output_dir, \"bank_churn.csv\"), index=False)\n",
    "\n",
    "# This line prints the exact confirmation message you requested with a timestamp.\n",
    "print(f\"dataset saved to Data/3.Raw Data Storage with time: {datetime.now().strftime('%Y-%m-%d %H:%M:%S')}\")\n"
   ]
  }
 ],
 "metadata": {
  "kernelspec": {
   "display_name": "Python 3.12.7 ('base')",
   "language": "python",
   "name": "python3"
  },
  "language_info": {
   "codemirror_mode": {
    "name": "ipython",
    "version": 3
   },
   "file_extension": ".py",
   "mimetype": "text/x-python",
   "name": "python",
   "nbconvert_exporter": "python",
   "pygments_lexer": "ipython3",
   "version": "3.12.7"
  },
  "vscode": {
   "interpreter": {
    "hash": "faa1fa619533ebb939c61fcbcc7a64e69ab58da1fd275013ca19dbaacbd28041"
   }
  }
 },
 "nbformat": 4,
 "nbformat_minor": 5
}
