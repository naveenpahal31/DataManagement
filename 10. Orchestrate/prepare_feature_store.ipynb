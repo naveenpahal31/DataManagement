{
  "cells": [
    {
      "cell_type": "markdown",
      "metadata": {
        "id": "3f66fa90"
      },
      "source": [
        "## Load original data\n",
        "\n",
        "Load the data from \"Kaggle_bank_churn.csv\" into a dataframe.\n"
      ],
      "id": "3f66fa90"
    },
    {
      "cell_type": "code",
      "metadata": {
        "colab": {
          "base_uri": "https://localhost:8080/"
        },
        "id": "i3Gf3s_7CRlw",
        "outputId": "5dbcca85-dae6-4ae9-b95b-4643afa025fc"
      },
      "source": [
        "df_kaggle = pd.read_csv(\"/content/sample_data/Kaggle_bank_churn.csv\")\n",
        "print(df_kaggle.head())"
      ],
      "id": "i3Gf3s_7CRlw",
      "execution_count": 16,
      "outputs": [
        {
          "output_type": "stream",
          "name": "stdout",
          "text": [
            "   RowNumber  CustomerId Surname  CreditScore Geography  Gender  Age  Tenure  \\\n",
            "0          1    15629956  Garcia          704    France    Male   20     1.0   \n",
            "1          2    15148882   Smith          684   unknown  Female   65    10.0   \n",
            "2          3    15620423   Brown          830    France    Male   27     9.0   \n",
            "3          4    15666649   Jones          309     Spain  Female   27     6.0   \n",
            "4          5    15414526     Lee          477    France   other   33     9.0   \n",
            "\n",
            "         Balance  NumOfProducts  HasCrCard  IsActiveMember  EstimatedSalary  \\\n",
            "0   42173.970118              3          0               1     30089.172189   \n",
            "1   73452.686690              3         99               0      3510.037593   \n",
            "2  162509.470135              2          0               1    152270.459603   \n",
            "3   42106.650311              4          0               0     88705.200772   \n",
            "4  195514.849105              3         99               1      1672.419108   \n",
            "\n",
            "   Exited  \n",
            "0       1  \n",
            "1       1  \n",
            "2       0  \n",
            "3       1  \n",
            "4       1  \n"
          ]
        }
      ]
    },
    {
      "cell_type": "markdown",
      "metadata": {
        "id": "20a83fbc"
      },
      "source": [
        "## Load cleaned data\n",
        "\n",
        "### Subtask:\n",
        "Load the data from \"cleaned_data.csv\" into a dataframe.\n"
      ],
      "id": "20a83fbc"
    },
    {
      "cell_type": "markdown",
      "metadata": {
        "id": "668eead2"
      },
      "source": [
        "**Reasoning**:\n",
        "Load the data from the specified CSV file into a pandas DataFrame and display its head and column names to confirm successful loading.\n",
        "\n"
      ],
      "id": "668eead2"
    },
    {
      "cell_type": "code",
      "metadata": {
        "colab": {
          "base_uri": "https://localhost:8080/"
        },
        "id": "c2f3d4d1",
        "outputId": "ccb3ec55-9a73-4f86-b932-6c9be9ad73b4"
      },
      "source": [
        "df = pd.read_csv(\"/content/sample_data/cleaned_data.csv\")\n",
        "print(df.head())\n",
        "print(df.columns)"
      ],
      "id": "c2f3d4d1",
      "execution_count": 17,
      "outputs": [
        {
          "output_type": "stream",
          "name": "stdout",
          "text": [
            "   num__CreditScore  num__Age  num__Tenure  num__Balance  num__NumOfProducts  \\\n",
            "0         -0.039196  0.124312    -1.013669     -1.335200           -1.394443   \n",
            "1         -0.125802  0.043188    -1.350455     -0.125025           -1.394443   \n",
            "2         -0.960374  0.124312     1.007046      0.970282            0.367244   \n",
            "3          0.590669 -0.119059    -1.350455     -1.335200           -0.513599   \n",
            "4          1.779540  0.205435    -1.013669      0.477160           -1.394443   \n",
            "\n",
            "   num__HasCrCard  num__IsActiveMember  num__EstimatedSalary  num__Exited  \\\n",
            "0        0.667295             0.977510             -0.581393     1.530205   \n",
            "1       -1.498588             0.977510             -0.459792    -0.653507   \n",
            "2        0.667295            -1.023007             -0.444703     1.530205   \n",
            "3       -1.498588            -1.023007             -0.663110    -0.653507   \n",
            "4        0.667295             0.977510             -0.823263    -0.653507   \n",
            "\n",
            "   cat__Geography_France  cat__Geography_Germany  cat__Geography_Spain  \\\n",
            "0                    1.0                     0.0                   0.0   \n",
            "1                    0.0                     0.0                   1.0   \n",
            "2                    1.0                     0.0                   0.0   \n",
            "3                    1.0                     0.0                   0.0   \n",
            "4                    0.0                     0.0                   1.0   \n",
            "\n",
            "   cat__Gender_Female  cat__Gender_Male  cat__Gender_nan  \n",
            "0                 1.0               0.0              0.0  \n",
            "1                 1.0               0.0              0.0  \n",
            "2                 1.0               0.0              0.0  \n",
            "3                 1.0               0.0              0.0  \n",
            "4                 1.0               0.0              0.0  \n",
            "Index(['num__CreditScore', 'num__Age', 'num__Tenure', 'num__Balance',\n",
            "       'num__NumOfProducts', 'num__HasCrCard', 'num__IsActiveMember',\n",
            "       'num__EstimatedSalary', 'num__Exited', 'cat__Geography_France',\n",
            "       'cat__Geography_Germany', 'cat__Geography_Spain', 'cat__Gender_Female',\n",
            "       'cat__Gender_Male', 'cat__Gender_nan'],\n",
            "      dtype='object')\n"
          ]
        }
      ]
    },
    {
      "cell_type": "markdown",
      "metadata": {
        "id": "522d8994"
      },
      "source": [
        "## Merge dataframes\n",
        "\n",
        "### Subtask:\n",
        "Merge the two dataframes on a common key (likely the customer ID).\n"
      ],
      "id": "522d8994"
    },
    {
      "cell_type": "markdown",
      "metadata": {
        "id": "e48addf8"
      },
      "source": [
        "**Reasoning**:\n",
        "Examine the columns of both dataframes to find a common customer ID column and then merge the dataframes based on that column.\n",
        "\n"
      ],
      "id": "e48addf8"
    },
    {
      "cell_type": "code",
      "metadata": {
        "colab": {
          "base_uri": "https://localhost:8080/"
        },
        "id": "3da16c2a",
        "outputId": "aef81718-07f3-4367-8d00-4b222432eb5f"
      },
      "source": [
        "print(\"Columns in df_kaggle:\")\n",
        "print(df_kaggle.columns)\n",
        "print(\"\\nColumns in df:\")\n",
        "print(df.columns)"
      ],
      "id": "3da16c2a",
      "execution_count": 12,
      "outputs": [
        {
          "output_type": "stream",
          "name": "stdout",
          "text": [
            "Columns in df_kaggle:\n",
            "Index(['RowNumber', 'CustomerId', 'Surname', 'CreditScore', 'Geography',\n",
            "       'Gender', 'Age', 'Tenure', 'Balance', 'NumOfProducts', 'HasCrCard',\n",
            "       'IsActiveMember', 'EstimatedSalary', 'Exited'],\n",
            "      dtype='object')\n",
            "\n",
            "Columns in df:\n",
            "Index(['num__CreditScore', 'num__Age', 'num__Tenure', 'num__Balance',\n",
            "       'num__NumOfProducts', 'num__HasCrCard', 'num__IsActiveMember',\n",
            "       'num__EstimatedSalary', 'num__Exited', 'cat__Geography_France',\n",
            "       'cat__Geography_Germany', 'cat__Geography_Spain', 'cat__Gender_Female',\n",
            "       'cat__Gender_Male', 'cat__Gender_nan'],\n",
            "      dtype='object')\n"
          ]
        }
      ]
    },
    {
      "cell_type": "markdown",
      "metadata": {
        "id": "fca034e6"
      },
      "source": [
        "## Feature engineering\n",
        "\n",
        "### Subtask:\n",
        "Perform the existing feature engineering steps on the merged dataframe.\n"
      ],
      "id": "fca034e6"
    },
    {
      "cell_type": "markdown",
      "metadata": {
        "id": "4376d1a2"
      },
      "source": [
        "**Reasoning**:\n",
        "Perform the requested feature engineering calculations on the dataframe `df`.\n",
        "\n"
      ],
      "id": "4376d1a2"
    },
    {
      "cell_type": "code",
      "metadata": {
        "colab": {
          "base_uri": "https://localhost:8080/"
        },
        "id": "2cdfdb93",
        "outputId": "47ea4ed8-7b88-40b0-fe11-becb720dfaf9"
      },
      "source": [
        "df[\"Balance_to_Salary\"] = df[\"num__Balance\"] / (df[\"num__EstimatedSalary\"] + 1)\n",
        "df[\"Tenure_by_Age\"] = df[\"num__Tenure\"] / (df[\"num__Age\"] + 1)\n",
        "\n",
        "print(df[[\"Balance_to_Salary\", \"Tenure_by_Age\"]].head())"
      ],
      "id": "2cdfdb93",
      "execution_count": 13,
      "outputs": [
        {
          "output_type": "stream",
          "name": "stdout",
          "text": [
            "   Balance_to_Salary  Tenure_by_Age\n",
            "0          -3.189628      -0.901591\n",
            "1          -0.231439      -1.294546\n",
            "2           1.747321       0.895700\n",
            "3          -3.963310      -1.532968\n",
            "4           2.699828      -0.840915\n"
          ]
        }
      ]
    }
  ],
  "metadata": {
    "colab": {
      "provenance": []
    },
    "language_info": {
      "name": "python"
    },
    "kernelspec": {
      "name": "python3",
      "display_name": "Python 3"
    }
  },
  "nbformat": 4,
  "nbformat_minor": 5
}