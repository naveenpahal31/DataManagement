{
  "cells": [
    {
      "cell_type": "markdown",
      "id": "3b00309f",
      "metadata": {
        "id": "3b00309f"
      },
      "source": [
        "# Register Model with MLflow\n",
        "This notebook trains a lightweight model and registers it in MLflow."
      ]
    },
    {
      "cell_type": "code",
      "execution_count": 6,
      "id": "ebc34821",
      "metadata": {
        "colab": {
          "base_uri": "https://localhost:8080/"
        },
        "id": "ebc34821",
        "outputId": "9584a29b-39cb-423e-d425-64e72c57d9e4"
      },
      "outputs": [
        {
          "output_type": "stream",
          "name": "stdout",
          "text": [
            "Index(['num__CreditScore', 'num__Age', 'num__Tenure', 'num__Balance',\n",
            "       'num__NumOfProducts', 'num__HasCrCard', 'num__IsActiveMember',\n",
            "       'num__EstimatedSalary', 'num__Exited', 'cat__Geography_France',\n",
            "       'cat__Geography_Germany', 'cat__Geography_Spain', 'cat__Gender_Female',\n",
            "       'cat__Gender_Male', 'cat__Gender_nan'],\n",
            "      dtype='object')\n",
            "✅ Model saved locally at models/random_forest.pkl (MLflow not installed)\n"
          ]
        }
      ],
      "source": [
        "import pandas as pd\n",
        "from sklearn.model_selection import train_test_split\n",
        "from sklearn.ensemble import RandomForestClassifier\n",
        "from sklearn.metrics import f1_score\n",
        "import joblib\n",
        "import os\n",
        "\n",
        "try:\n",
        "    import mlflow\n",
        "    import mlflow.sklearn\n",
        "    mlflow_available = True\n",
        "except ImportError:\n",
        "    mlflow_available = False\n",
        "\n",
        "# Load cleaned dataset\n",
        "df = pd.read_csv(\"/content/sample_data/cleaned_data.csv\")\n",
        "print(df.columns) # Print columns to diagnose the KeyError\n",
        "X = df.drop(columns=[\"num__Exited\"]) # Corrected column name\n",
        "y = df[\"num__Exited\"].astype(int) # Convert target to integer\n",
        "\n",
        "X_train, X_test, y_train, y_test = train_test_split(\n",
        "    X, y, test_size=0.2, stratify=y, random_state=42\n",
        ")\n",
        "\n",
        "# Train model\n",
        "model = RandomForestClassifier(random_state=42, n_estimators=100)\n",
        "model.fit(X_train, y_train)\n",
        "preds = model.predict(X_test)\n",
        "f1 = f1_score(y_test, preds)\n",
        "\n",
        "# Save locally\n",
        "os.makedirs(\"models\", exist_ok=True)\n",
        "joblib.dump(model, \"models/random_forest.pkl\")\n",
        "\n",
        "if mlflow_available:\n",
        "    mlflow.set_experiment(\"bank_churn_pipeline\")\n",
        "    with mlflow.start_run(run_name=\"register_model\") as run:\n",
        "        mlflow.log_param(\"model_type\", \"RandomForest\")\n",
        "        mlflow.log_metric(\"f1_score\", f1)\n",
        "        mlflow.sklearn.log_model(model, \"model\")\n",
        "        print(f\"✅ Model logged to MLflow (Run ID: {run.info.run_id})\")\n",
        "else:\n",
        "    print(\"✅ Model saved locally at models/random_forest.pkl (MLflow not installed)\")"
      ]
    }
  ],
  "metadata": {
    "colab": {
      "provenance": []
    },
    "language_info": {
      "name": "python"
    },
    "kernelspec": {
      "name": "python3",
      "display_name": "Python 3"
    }
  },
  "nbformat": 4,
  "nbformat_minor": 5
}